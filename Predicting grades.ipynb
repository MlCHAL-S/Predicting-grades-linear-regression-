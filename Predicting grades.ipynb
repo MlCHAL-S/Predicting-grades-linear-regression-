{
 "cells": [
  {
   "cell_type": "code",
   "execution_count": 1,
   "id": "7994da94",
   "metadata": {},
   "outputs": [],
   "source": [
    "import sklearn\n",
    "from sklearn import linear_model\n",
    "from sklearn.utils import shuffle\n",
    "import pandas as pd\n",
    "import numpy as np"
   ]
  },
  {
   "cell_type": "code",
   "execution_count": 5,
   "id": "f32364fc",
   "metadata": {},
   "outputs": [],
   "source": [
    "data = pd.read_csv('student-mat.csv', sep=';')"
   ]
  },
  {
   "cell_type": "code",
   "execution_count": 7,
   "id": "528c8b70",
   "metadata": {},
   "outputs": [],
   "source": [
    "data = data[['G1', 'G2', 'G3', 'studytime', 'failures', 'absences']]\n",
    "data\n",
    "\n",
    "predict = 'G3'"
   ]
  },
  {
   "cell_type": "code",
   "execution_count": 10,
   "id": "fe223f60",
   "metadata": {},
   "outputs": [],
   "source": [
    "X = np.array(data.drop([predict], axis=1))\n",
    "y = np.array(data[predict])\n",
    "\n",
    "x_train, x_test, y_train, y_test = sklearn.model_selection.train_test_split(X, y, test_size = 0.1)"
   ]
  },
  {
   "cell_type": "code",
   "execution_count": 11,
   "id": "e5cf5d85",
   "metadata": {},
   "outputs": [
    {
     "data": {
      "text/plain": [
       "0.7871617411392514"
      ]
     },
     "execution_count": 11,
     "metadata": {},
     "output_type": "execute_result"
    }
   ],
   "source": [
    "linear = linear_model.LinearRegression()\n",
    "linear.fit(x_train, y_train)\n",
    "accuracy = linear.score(x_test, y_test)\n",
    "accuracy"
   ]
  },
  {
   "cell_type": "code",
   "execution_count": 18,
   "id": "0ef4aff0",
   "metadata": {},
   "outputs": [
    {
     "name": "stdout",
     "output_type": "stream",
     "text": [
      "[ 0.14245953  0.97668915 -0.18365307 -0.29649659  0.03320437], -1.3145772590223448\n"
     ]
    }
   ],
   "source": [
    "# coefficients in the 5 dimensional space and the intercept\n",
    "print(f'{linear.coef_}, {linear.intercept_}')\n"
   ]
  },
  {
   "cell_type": "code",
   "execution_count": 20,
   "id": "57d29a60",
   "metadata": {},
   "outputs": [
    {
     "name": "stdout",
     "output_type": "stream",
     "text": [
      "10.93558064041066 [10 11  1  0  8] 10\n",
      "16.290904308665105 [16 16  2  0  2] 16\n",
      "3.646979461102128 [6 5 1 2 0] 0\n",
      "7.648538958899913 [ 9  8  2  1 16] 7\n",
      "9.073826281082743 [11  9  2  0 12] 9\n",
      "18.421599402313532 [19 18  3  0  0] 19\n",
      "9.576012196465467 [10 10  2  0  2] 10\n",
      "3.5761699073623108 [6 5 3 1 0] 0\n",
      "6.427434414237238 [8 7 2 0 4] 6\n",
      "12.271590995759862 [10 13  4  0  6] 13\n",
      "9.759665265928044 [10 10  1  0  2] 10\n",
      "15.613054489784242 [16 15  2  0 11] 15\n",
      "9.341523539034114 [10 10  4  0  6] 11\n",
      "8.39045477035196 [9 9 2 0 0] 10\n",
      "6.305765537051554 [7 8 2 3 2] 9\n",
      "10.259383707196251 [12 10  2  0 14] 11\n",
      "13.392388336646354 [14 13  1  0  6] 13\n",
      "14.394292693297285 [15 14  2  0  8] 14\n",
      "7.921882634640001 [7 9 3 0 0] 8\n",
      "8.093958185166624 [9 9 2 1 0] 0\n",
      "13.98619819718499 [14 14  2  0  0] 14\n",
      "7.615334588526462 [ 9  8  2  1 15] 8\n",
      "9.642420937212366 [10 10  2  0  4] 11\n",
      "13.935362609216215 [14 14  3  0  4] 14\n",
      "7.337714825732254 [8 8 2 0 2] 8\n",
      "7.271306084985353 [8 8 2 0 0] 9\n",
      "10.370981618123208 [13 10  2  1 22] 11\n",
      "5.089775403368153 [5 6 2 0 6] 6\n",
      "18.06062954368636 [16 18  3  0  2] 18\n",
      "7.291280050756393 [8 8 1 1 4] 8\n",
      "6.804667288151798 [ 9  7  2  1 20] 8\n",
      "7.542158551133836 [8 9 1 3 0] 10\n",
      "8.431648306689846 [8 9 1 0 0] 8\n",
      "7.128846551860663 [7 8 2 0 0] 0\n",
      "8.697283269677449 [8 9 1 0 8] 10\n",
      "7.556225151234733 [10  8  2  0  0] 9\n",
      "12.648539186315904 [11 13  2  0  2] 14\n",
      "9.652062988843255 [11 10  2  0  0] 10\n",
      "9.423910611709886 [ 8 10  2  0  6] 10\n",
      "-0.797510181797425 [7 0 1 1 0] 0\n"
     ]
    }
   ],
   "source": [
    "predictions = linear.predict(x_test)\n",
    "\n",
    "for x in range(len(predictions)):\n",
    "    print(predictions[x], x_test[x], y_test[x])"
   ]
  },
  {
   "cell_type": "code",
   "execution_count": null,
   "id": "6178a886",
   "metadata": {},
   "outputs": [],
   "source": []
  }
 ],
 "metadata": {
  "kernelspec": {
   "display_name": "Python [conda env:tensor] *",
   "language": "python",
   "name": "conda-env-tensor-py"
  },
  "language_info": {
   "codemirror_mode": {
    "name": "ipython",
    "version": 3
   },
   "file_extension": ".py",
   "mimetype": "text/x-python",
   "name": "python",
   "nbconvert_exporter": "python",
   "pygments_lexer": "ipython3",
   "version": "3.11.5"
  }
 },
 "nbformat": 4,
 "nbformat_minor": 5
}
