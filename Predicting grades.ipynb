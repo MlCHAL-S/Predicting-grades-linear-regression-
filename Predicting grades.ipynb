{
 "cells": [
  {
   "cell_type": "code",
   "execution_count": 1,
   "id": "7994da94",
   "metadata": {},
   "outputs": [],
   "source": [
    "import sklearn\n",
    "from sklearn import linear_model\n",
    "from sklearn.utils import shuffle\n",
    "import pandas as pd\n",
    "import numpy as np\n",
    "import matplotlib.pyplot as plt\n",
    "import pickle\n",
    "from matplotlib import style"
   ]
  },
  {
   "cell_type": "code",
   "execution_count": 2,
   "id": "f32364fc",
   "metadata": {},
   "outputs": [],
   "source": [
    "data = pd.read_csv('student-mat.csv', sep=';')"
   ]
  },
  {
   "cell_type": "code",
   "execution_count": 3,
   "id": "528c8b70",
   "metadata": {},
   "outputs": [],
   "source": [
    "data = data[['G1', 'G2', 'G3', 'studytime', 'failures', 'absences']]\n",
    "data\n",
    "\n",
    "predict = 'G3'"
   ]
  },
  {
   "cell_type": "code",
   "execution_count": 20,
   "id": "fe223f60",
   "metadata": {},
   "outputs": [],
   "source": [
    "X = np.array(data.drop([predict], axis=1))\n",
    "y = np.array(data[predict])\n",
    "x_train, x_test, y_train, y_test = sklearn.model_selection.train_test_split(X, y, test_size = 0.1)"
   ]
  },
  {
   "cell_type": "code",
   "execution_count": 23,
   "id": "e5cf5d85",
   "metadata": {},
   "outputs": [
    {
     "name": "stdout",
     "output_type": "stream",
     "text": [
      "0.8362485085549308\n",
      "0.8019077167847697\n",
      "0.8493977060744813\n",
      "0.7812055524637834\n",
      "0.8718233594688775\n",
      "0.8772166215980857\n",
      "0.7268560833961755\n",
      "0.8076563296808367\n",
      "0.8638916295167733\n",
      "0.8559403767436213\n",
      "0.8465585676380032\n",
      "0.9039652274868712\n",
      "0.785342359161641\n",
      "0.8655236005610423\n",
      "0.7111387625548509\n",
      "0.862562003190873\n",
      "0.8384949844235853\n",
      "0.7952311421182073\n",
      "0.6859596028776603\n",
      "0.8398218919103473\n"
     ]
    }
   ],
   "source": [
    "best_trained_model = 0\n",
    "\n",
    "# finding a model with the heighest accuracy\n",
    "'''for _ in range(20):\n",
    "    x_train, x_test, y_train, y_test = sklearn.model_selection.train_test_split(X, y, test_size = 0.1)\n",
    "    linear = linear_model.LinearRegression()\n",
    "    linear.fit(x_train, y_train)\n",
    "    accuracy = linear.score(x_test, y_test)\n",
    "    \n",
    "    print(accuracy)\n",
    "\n",
    "    if accuracy > best_trained_model:\n",
    "        best_trained_model = accuracy\n",
    "        \n",
    "        # saving the model\n",
    "        with open('studentmodel.picle', 'wb') as file:\n",
    "            pickle.dump(linear, file)'''\n",
    "\n",
    "# reading a model and saving it into linear var\n",
    "pickle_in = open('studentmodel.picle', 'rb')\n",
    "linear = pickle.load(pickle_in)\n"
   ]
  },
  {
   "cell_type": "code",
   "execution_count": 17,
   "id": "0ef4aff0",
   "metadata": {},
   "outputs": [
    {
     "name": "stdout",
     "output_type": "stream",
     "text": [
      "[ 0.15090009  0.975003   -0.21242646 -0.20534183  0.03268339], -1.3748675247682485\n"
     ]
    }
   ],
   "source": [
    "# coefficients in the 5 dimensional space and the intercept\n",
    "print(f'{linear.coef_}, {linear.intercept_}')\n"
   ]
  },
  {
   "cell_type": "code",
   "execution_count": 18,
   "id": "57d29a60",
   "metadata": {},
   "outputs": [
    {
     "name": "stdout",
     "output_type": "stream",
     "text": [
      "8.807300937836661 [9 9 1 0 8] 10\n",
      "15.61556938192308 [16 15  1  0  5] 16\n",
      "5.314675601007403 [6 7 2 3 0] 0\n",
      "15.23972597178631 [16 15  2  0  0] 15\n",
      "10.650580312201432 [11 11  2  0  2] 11\n",
      "10.585213530203175 [11 11  2  0  0] 10\n",
      "-0.3522458937918622 [11  0  3  0  0] 0\n",
      "10.736113620784971 [12 11  2  0  0] 12\n",
      "14.848552064600248 [12 15  1  0  0] 15\n",
      "14.362172789758663 [13 15  4  0  0] 15\n",
      "5.956366348010639 [ 7  6  2  0 26] 6\n",
      "4.421905286417991 [6 5 1 0 7] 6\n",
      "12.853376987556615 [13 13  3  0  7] 14\n",
      "13.966763210893106 [15 14  3  0  2] 15\n",
      "12.600586306538506 [11 13  2  0  2] 13\n",
      "12.323393427255617 [14 12  1  0  3] 12\n",
      "9.095983896729916 [ 9 10  3  0  0] 0\n",
      "9.524677224451096 [10 10  2  0  2] 10\n",
      "15.415659791195793 [15 15  2  0 10] 15\n",
      "12.98894658108912 [10 13  1  0 12] 12\n",
      "10.132513258457784 [ 8 11  2  0  0] 11\n",
      "12.962352203929841 [14 13  3  1 12] 13\n",
      "15.916769205230178 [15 16  3  0  2] 18\n",
      "12.727479453096093 [10 13  1  0  4] 14\n",
      "16.223405415929765 [14 16  1  0  3] 16\n",
      "9.822636988175764 [11 10  1  0  0] 10\n",
      "6.767412598749022 [ 7  8  2  3 10] 10\n",
      "19.001986264855418 [17 18  2  0 21] 18\n",
      "11.988909855092896 [12 12  1  0  2] 11\n",
      "4.91218139620493 [8 6 2 2 2] 5\n",
      "7.272871048950428 [8 8 2 0 2] 8\n",
      "6.39207780734035 [7 7 1 0 3] 8\n",
      "8.749614990716259 [11  9  3  0 10] 10\n",
      "14.856232899478101 [14 15  3  0  4] 16\n",
      "7.6433133933166815 [ 9  8  2  1 15] 8\n",
      "10.935561770218934 [10  9  2  0 75] 9\n",
      "7.060444593809301 [8 8 3 0 2] 10\n",
      "7.448804868359915 [ 7  8  2  0 12] 8\n",
      "10.78839850213486 [11 11  1  1  6] 10\n",
      "12.185010201087666 [12 12  1  0  8] 12\n"
     ]
    }
   ],
   "source": [
    "predictions = linear.predict(x_test)\n",
    "\n",
    "for x in range(len(predictions)):\n",
    "    print(predictions[x], x_test[x], y_test[x])"
   ]
  },
  {
   "cell_type": "code",
   "execution_count": null,
   "id": "6178a886",
   "metadata": {},
   "outputs": [],
   "source": []
  }
 ],
 "metadata": {
  "kernelspec": {
   "display_name": "Python [conda env:tensor] *",
   "language": "python",
   "name": "conda-env-tensor-py"
  },
  "language_info": {
   "codemirror_mode": {
    "name": "ipython",
    "version": 3
   },
   "file_extension": ".py",
   "mimetype": "text/x-python",
   "name": "python",
   "nbconvert_exporter": "python",
   "pygments_lexer": "ipython3",
   "version": "3.11.5"
  }
 },
 "nbformat": 4,
 "nbformat_minor": 5
}
